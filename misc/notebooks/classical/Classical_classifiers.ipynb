{
 "cells": [
  {
   "cell_type": "markdown",
   "metadata": {
    "tags": []
   },
   "source": [
    "# Classical classifiers"
   ]
  },
  {
   "cell_type": "markdown",
   "metadata": {},
   "source": [
    "This notebook shows how well classical classifiers solve the sentence classification problem that is chosen for the pre-alpha prototype. This is mainly needed to have a baseline for quantum solution to compare against."
   ]
  },
  {
   "cell_type": "markdown",
   "metadata": {},
   "source": [
    "We first load our library files and the required packages."
   ]
  },
  {
   "cell_type": "code",
   "execution_count": 1,
   "metadata": {},
   "outputs": [],
   "source": [
    "import sys\n",
    "import os\n",
    "import json\n",
    "import numpy as np\n",
    "from sklearn.neighbors import KNeighborsClassifier\n",
    "\n",
    "sys.path.append(\"../../../my_lib/src/ClassicalNLP/Classifier/\")\n",
    "\n",
    "from NNClassifier import (loadData,evaluate, NNClassifier,\n",
    "       prepareTrainTestXYWords, prepareTrainTestXYSentence,)"
   ]
  },
  {
   "cell_type": "markdown",
   "metadata": {},
   "source": [
    "For data vectorizing separate services are used which are run as Docker containers. To simplify the presentation via Jupyter notebook, for demonstration we will just load the already vectorized data.\n",
    "\n",
    "We have implemented sentence vectorization using pretrained _BERT_ (see [Git](https://github.com/google-research/bert), [arXiv](https://arxiv.org/abs/1810.04805)) base model (each sentence is represented as a 768-dimensional real-valued vector),\n",
    "as well as word-level vectorization using [_fastText_](https://fasttext.cc/) model [pretrained on English Wikipedia](https://fasttext.cc/docs/en/pretrained-vectors.html) (each word in a sentence is represented as a 300-dimensional real-valued vector).\n",
    "\n",
    "We will start with the BERT sentence-level vectorization."
   ]
  },
  {
   "cell_type": "code",
   "execution_count": 2,
   "metadata": {},
   "outputs": [
    {
     "name": "stdout",
     "output_type": "stream",
     "text": [
      "Training samples: 89, test samples: 23\n",
      "An example sentence: chicken eats fox, type: NOUN-TVERB-NOUN, truth value: False\n",
      "Vectorized sentence dimension: 768\n"
     ]
    }
   ],
   "source": [
    "data = loadData(\"../../../my_lib/src/ClassicalNLP/Datasets/dataset_vectorized_bert_uncased.json\")\n",
    "print(f\"Training samples: {len(data['train_data'])}, test samples: {len(data['test_data'])}\")\n",
    "print(f\"An example sentence: {data['train_data'][2]['sentence']}, type: {data['train_data'][2]['sentence_type']}, truth value: {data['train_data'][2]['truth_value']}\")\n",
    "print(f\"Vectorized sentence dimension: {len(data['train_data'][0]['sentence_vectorized'][0])}\")"
   ]
  },
  {
   "cell_type": "markdown",
   "metadata": {},
   "source": [
    "We reformat the data as numpy arrays for classifier training. "
   ]
  },
  {
   "cell_type": "code",
   "execution_count": 3,
   "metadata": {},
   "outputs": [
    {
     "name": "stdout",
     "output_type": "stream",
     "text": [
      "(89, 768)\n",
      "(89, 2)\n",
      "(23, 768)\n",
      "(23, 2)\n"
     ]
    }
   ],
   "source": [
    "trainX, trainY, testX, testY = prepareTrainTestXYSentence(data)\n",
    "print(f\"{trainX.shape}\")\n",
    "print(f\"{trainY.shape}\")\n",
    "print(f\"{testX.shape}\")\n",
    "print(f\"{testY.shape}\")"
   ]
  },
  {
   "cell_type": "markdown",
   "metadata": {},
   "source": [
    "We test the accuracy of classifying the sentence with the label corresponding to the closest sentence in the training data."
   ]
  },
  {
   "cell_type": "code",
   "execution_count": 4,
   "metadata": {},
   "outputs": [
    {
     "name": "stdout",
     "output_type": "stream",
     "text": [
      "Nearest neighbor test accuracy: 0.6956521739130435, train accuracy: 1.0\n"
     ]
    }
   ],
   "source": [
    "neigh = KNeighborsClassifier(n_neighbors=1)\n",
    "neigh.fit(trainX, trainY)\n",
    "res = neigh.predict(testX)\n",
    "bert_neigh_test_acc = np.sum(res == testY)/2/len(testY)\n",
    "bert_neigh_train_acc = neigh.score(trainX, trainY)\n",
    "print(f\"Nearest neighbor test accuracy: {bert_neigh_test_acc}, train accuracy: {bert_neigh_train_acc}\")"
   ]
  },
  {
   "cell_type": "markdown",
   "metadata": {},
   "source": [
    "Now we train a feedforward neural network classifier."
   ]
  },
  {
   "cell_type": "code",
   "execution_count": 5,
   "metadata": {
    "scrolled": true,
    "tags": []
   },
   "outputs": [
    {
     "name": "stdout",
     "output_type": "stream",
     "text": [
      "Epoch 1/100\n",
      "3/3 - 0s - loss: 0.7401 - accuracy: 0.4157\n",
      "Epoch 2/100\n",
      "3/3 - 0s - loss: 0.7191 - accuracy: 0.5056\n",
      "Epoch 3/100\n",
      "3/3 - 0s - loss: 0.6936 - accuracy: 0.4831\n",
      "Epoch 4/100\n",
      "3/3 - 0s - loss: 0.6743 - accuracy: 0.5506\n",
      "Epoch 5/100\n",
      "3/3 - 0s - loss: 0.6599 - accuracy: 0.5955\n",
      "Epoch 6/100\n",
      "3/3 - 0s - loss: 0.6435 - accuracy: 0.6180\n",
      "Epoch 7/100\n",
      "3/3 - 0s - loss: 0.6314 - accuracy: 0.6742\n",
      "Epoch 8/100\n",
      "3/3 - 0s - loss: 0.6195 - accuracy: 0.6517\n",
      "Epoch 9/100\n",
      "3/3 - 0s - loss: 0.6101 - accuracy: 0.6517\n",
      "Epoch 10/100\n",
      "3/3 - 0s - loss: 0.5989 - accuracy: 0.6966\n",
      "Epoch 11/100\n",
      "3/3 - 0s - loss: 0.5903 - accuracy: 0.6966\n",
      "Epoch 12/100\n",
      "3/3 - 0s - loss: 0.5840 - accuracy: 0.7191\n",
      "Epoch 13/100\n",
      "3/3 - 0s - loss: 0.5755 - accuracy: 0.7416\n",
      "Epoch 14/100\n",
      "3/3 - 0s - loss: 0.5704 - accuracy: 0.7303\n",
      "Epoch 15/100\n",
      "3/3 - 0s - loss: 0.5619 - accuracy: 0.7191\n",
      "Epoch 16/100\n",
      "3/3 - 0s - loss: 0.5568 - accuracy: 0.7191\n",
      "Epoch 17/100\n",
      "3/3 - 0s - loss: 0.5509 - accuracy: 0.7528\n",
      "Epoch 18/100\n",
      "3/3 - 0s - loss: 0.5480 - accuracy: 0.7416\n",
      "Epoch 19/100\n",
      "3/3 - 0s - loss: 0.5415 - accuracy: 0.7416\n",
      "Epoch 20/100\n",
      "3/3 - 0s - loss: 0.5372 - accuracy: 0.7640\n",
      "Epoch 21/100\n",
      "3/3 - 0s - loss: 0.5318 - accuracy: 0.7416\n",
      "Epoch 22/100\n",
      "3/3 - 0s - loss: 0.5293 - accuracy: 0.7640\n",
      "Epoch 23/100\n",
      "3/3 - 0s - loss: 0.5262 - accuracy: 0.7303\n",
      "Epoch 24/100\n",
      "3/3 - 0s - loss: 0.5201 - accuracy: 0.7528\n",
      "Epoch 25/100\n",
      "3/3 - 0s - loss: 0.5168 - accuracy: 0.7640\n",
      "Epoch 26/100\n",
      "3/3 - 0s - loss: 0.5126 - accuracy: 0.7528\n",
      "Epoch 27/100\n",
      "3/3 - 0s - loss: 0.5095 - accuracy: 0.7753\n",
      "Epoch 28/100\n",
      "3/3 - 0s - loss: 0.5062 - accuracy: 0.7753\n",
      "Epoch 29/100\n",
      "3/3 - 0s - loss: 0.5044 - accuracy: 0.7640\n",
      "Epoch 30/100\n",
      "3/3 - 0s - loss: 0.5005 - accuracy: 0.7865\n",
      "Epoch 31/100\n",
      "3/3 - 0s - loss: 0.4970 - accuracy: 0.7865\n",
      "Epoch 32/100\n",
      "3/3 - 0s - loss: 0.4940 - accuracy: 0.7753\n",
      "Epoch 33/100\n",
      "3/3 - 0s - loss: 0.4917 - accuracy: 0.7640\n",
      "Epoch 34/100\n",
      "3/3 - 0s - loss: 0.4871 - accuracy: 0.7978\n",
      "Epoch 35/100\n",
      "3/3 - 0s - loss: 0.4845 - accuracy: 0.7865\n",
      "Epoch 36/100\n",
      "3/3 - 0s - loss: 0.4815 - accuracy: 0.7865\n",
      "Epoch 37/100\n",
      "3/3 - 0s - loss: 0.4798 - accuracy: 0.7978\n",
      "Epoch 38/100\n",
      "3/3 - 0s - loss: 0.4762 - accuracy: 0.7978\n",
      "Epoch 39/100\n",
      "3/3 - 0s - loss: 0.4743 - accuracy: 0.7978\n",
      "Epoch 40/100\n",
      "3/3 - 0s - loss: 0.4718 - accuracy: 0.7978\n",
      "Epoch 41/100\n",
      "3/3 - 0s - loss: 0.4688 - accuracy: 0.7978\n",
      "Epoch 42/100\n",
      "3/3 - 0s - loss: 0.4663 - accuracy: 0.7978\n",
      "Epoch 43/100\n",
      "3/3 - 0s - loss: 0.4665 - accuracy: 0.7978\n",
      "Epoch 44/100\n",
      "3/3 - 0s - loss: 0.4631 - accuracy: 0.8090\n",
      "Epoch 45/100\n",
      "3/3 - 0s - loss: 0.4612 - accuracy: 0.7865\n",
      "Epoch 46/100\n",
      "3/3 - 0s - loss: 0.4575 - accuracy: 0.7865\n",
      "Epoch 47/100\n",
      "3/3 - 0s - loss: 0.4542 - accuracy: 0.8090\n",
      "Epoch 48/100\n",
      "3/3 - 0s - loss: 0.4523 - accuracy: 0.8090\n",
      "Epoch 49/100\n",
      "3/3 - 0s - loss: 0.4526 - accuracy: 0.7978\n",
      "Epoch 50/100\n",
      "3/3 - 0s - loss: 0.4485 - accuracy: 0.8090\n",
      "Epoch 51/100\n",
      "3/3 - 0s - loss: 0.4459 - accuracy: 0.8202\n",
      "Epoch 52/100\n",
      "3/3 - 0s - loss: 0.4441 - accuracy: 0.7978\n",
      "Epoch 53/100\n",
      "3/3 - 0s - loss: 0.4418 - accuracy: 0.8090\n",
      "Epoch 54/100\n",
      "3/3 - 0s - loss: 0.4401 - accuracy: 0.8202\n",
      "Epoch 55/100\n",
      "3/3 - 0s - loss: 0.4375 - accuracy: 0.8202\n",
      "Epoch 56/100\n",
      "3/3 - 0s - loss: 0.4359 - accuracy: 0.8202\n",
      "Epoch 57/100\n",
      "3/3 - 0s - loss: 0.4343 - accuracy: 0.8202\n",
      "Epoch 58/100\n",
      "3/3 - 0s - loss: 0.4317 - accuracy: 0.8202\n",
      "Epoch 59/100\n",
      "3/3 - 0s - loss: 0.4296 - accuracy: 0.8315\n",
      "Epoch 60/100\n",
      "3/3 - 0s - loss: 0.4290 - accuracy: 0.8315\n",
      "Epoch 61/100\n",
      "3/3 - 0s - loss: 0.4258 - accuracy: 0.8315\n",
      "Epoch 62/100\n",
      "3/3 - 0s - loss: 0.4263 - accuracy: 0.8202\n",
      "Epoch 63/100\n",
      "3/3 - 0s - loss: 0.4225 - accuracy: 0.8427\n",
      "Epoch 64/100\n",
      "3/3 - 0s - loss: 0.4211 - accuracy: 0.8539\n",
      "Epoch 65/100\n",
      "3/3 - 0s - loss: 0.4191 - accuracy: 0.8539\n",
      "Epoch 66/100\n",
      "3/3 - 0s - loss: 0.4183 - accuracy: 0.8652\n",
      "Epoch 67/100\n",
      "3/3 - 0s - loss: 0.4173 - accuracy: 0.8652\n",
      "Epoch 68/100\n",
      "3/3 - 0s - loss: 0.4164 - accuracy: 0.8427\n",
      "Epoch 69/100\n",
      "3/3 - 0s - loss: 0.4124 - accuracy: 0.8539\n",
      "Epoch 70/100\n",
      "3/3 - 0s - loss: 0.4111 - accuracy: 0.8539\n",
      "Epoch 71/100\n",
      "3/3 - 0s - loss: 0.4098 - accuracy: 0.8427\n",
      "Epoch 72/100\n",
      "3/3 - 0s - loss: 0.4090 - accuracy: 0.8652\n",
      "Epoch 73/100\n",
      "3/3 - 0s - loss: 0.4045 - accuracy: 0.8652\n",
      "Epoch 74/100\n",
      "3/3 - 0s - loss: 0.4024 - accuracy: 0.8427\n",
      "Epoch 75/100\n",
      "3/3 - 0s - loss: 0.4035 - accuracy: 0.8539\n",
      "Epoch 76/100\n",
      "3/3 - 0s - loss: 0.4021 - accuracy: 0.8539\n",
      "Epoch 77/100\n",
      "3/3 - 0s - loss: 0.3993 - accuracy: 0.8652\n",
      "Epoch 78/100\n",
      "3/3 - 0s - loss: 0.3980 - accuracy: 0.8652\n",
      "Epoch 79/100\n",
      "3/3 - 0s - loss: 0.3964 - accuracy: 0.8652\n",
      "Epoch 80/100\n",
      "3/3 - 0s - loss: 0.3957 - accuracy: 0.8427\n",
      "Epoch 81/100\n",
      "3/3 - 0s - loss: 0.3927 - accuracy: 0.8652\n",
      "Epoch 82/100\n",
      "3/3 - 0s - loss: 0.3911 - accuracy: 0.8652\n",
      "Epoch 83/100\n",
      "3/3 - 0s - loss: 0.3975 - accuracy: 0.8539\n",
      "Epoch 84/100\n",
      "3/3 - 0s - loss: 0.3899 - accuracy: 0.8764\n",
      "Epoch 85/100\n",
      "3/3 - 0s - loss: 0.3880 - accuracy: 0.8652\n",
      "Epoch 86/100\n",
      "3/3 - 0s - loss: 0.3857 - accuracy: 0.8652\n",
      "Epoch 87/100\n",
      "3/3 - 0s - loss: 0.3852 - accuracy: 0.8652\n",
      "Epoch 88/100\n",
      "3/3 - 0s - loss: 0.3826 - accuracy: 0.8764\n",
      "Epoch 89/100\n",
      "3/3 - 0s - loss: 0.3811 - accuracy: 0.8764\n",
      "Epoch 90/100\n",
      "3/3 - 0s - loss: 0.3794 - accuracy: 0.8764\n",
      "Epoch 91/100\n",
      "3/3 - 0s - loss: 0.3790 - accuracy: 0.8652\n",
      "Epoch 92/100\n",
      "3/3 - 0s - loss: 0.3767 - accuracy: 0.8764\n",
      "Epoch 93/100\n",
      "3/3 - 0s - loss: 0.3755 - accuracy: 0.8764\n",
      "Epoch 94/100\n",
      "3/3 - 0s - loss: 0.3740 - accuracy: 0.8764\n",
      "Epoch 95/100\n",
      "3/3 - 0s - loss: 0.3726 - accuracy: 0.8764\n",
      "Epoch 96/100\n",
      "3/3 - 0s - loss: 0.3724 - accuracy: 0.8652\n",
      "Epoch 97/100\n",
      "3/3 - 0s - loss: 0.3710 - accuracy: 0.8652\n",
      "Epoch 98/100\n",
      "3/3 - 0s - loss: 0.3705 - accuracy: 0.8764\n",
      "Epoch 99/100\n",
      "3/3 - 0s - loss: 0.3703 - accuracy: 0.8764\n",
      "Epoch 100/100\n",
      "3/3 - 0s - loss: 0.3673 - accuracy: 0.8764\n"
     ]
    }
   ],
   "source": [
    "classifier = NNClassifier()\n",
    "history = classifier.train(trainX, trainY)"
   ]
  },
  {
   "cell_type": "code",
   "execution_count": 6,
   "metadata": {},
   "outputs": [
    {
     "name": "stdout",
     "output_type": "stream",
     "text": [
      "FNN train accuracy on BERT vectors: 0.8764045238494873\n"
     ]
    }
   ],
   "source": [
    "bert_nn_train_acc = history.history[\"accuracy\"][-1]\n",
    "print(f\"FNN train accuracy on BERT vectors: {bert_nn_train_acc}\")"
   ]
  },
  {
   "cell_type": "markdown",
   "metadata": {},
   "source": [
    "And measure the accuracy on the test set."
   ]
  },
  {
   "cell_type": "code",
   "execution_count": 7,
   "metadata": {},
   "outputs": [
    {
     "name": "stdout",
     "output_type": "stream",
     "text": [
      "FFNN test accuracy on BERT vectors: 0.6521739130434783\n"
     ]
    }
   ],
   "source": [
    "res = classifier.predict(testX)\n",
    "bert_nn_test_acc = evaluate(res, testY)\n",
    "print(f\"FFNN test accuracy on BERT vectors: {bert_nn_test_acc}\")"
   ]
  },
  {
   "cell_type": "markdown",
   "metadata": {},
   "source": [
    "Depending on random, the NN classifier might perform better or worse (or the same) than the 1-nearest neighbor algorithm."
   ]
  },
  {
   "cell_type": "markdown",
   "metadata": {},
   "source": [
    "Now we load fastText word embeddings and train a convolutional network on them."
   ]
  },
  {
   "cell_type": "code",
   "execution_count": 8,
   "metadata": {
    "scrolled": true,
    "tags": []
   },
   "outputs": [
    {
     "name": "stdout",
     "output_type": "stream",
     "text": [
      "Epoch 1/30\n",
      "3/3 - 0s - loss: 0.9306 - accuracy: 0.5056\n",
      "Epoch 2/30\n",
      "3/3 - 0s - loss: 0.6573 - accuracy: 0.5955\n",
      "Epoch 3/30\n",
      "3/3 - 0s - loss: 0.6196 - accuracy: 0.6517\n",
      "Epoch 4/30\n",
      "3/3 - 0s - loss: 0.5565 - accuracy: 0.7191\n",
      "Epoch 5/30\n",
      "3/3 - 0s - loss: 0.5238 - accuracy: 0.7528\n",
      "Epoch 6/30\n",
      "3/3 - 0s - loss: 0.4537 - accuracy: 0.7978\n",
      "Epoch 7/30\n",
      "3/3 - 0s - loss: 0.4636 - accuracy: 0.7753\n",
      "Epoch 8/30\n",
      "3/3 - 0s - loss: 0.4205 - accuracy: 0.7865\n",
      "Epoch 9/30\n",
      "3/3 - 0s - loss: 0.4005 - accuracy: 0.8202\n",
      "Epoch 10/30\n",
      "3/3 - 0s - loss: 0.3991 - accuracy: 0.8427\n",
      "Epoch 11/30\n",
      "3/3 - 0s - loss: 0.3729 - accuracy: 0.8539\n",
      "Epoch 12/30\n",
      "3/3 - 0s - loss: 0.3737 - accuracy: 0.8090\n",
      "Epoch 13/30\n",
      "3/3 - 0s - loss: 0.3541 - accuracy: 0.8202\n",
      "Epoch 14/30\n",
      "3/3 - 0s - loss: 0.3531 - accuracy: 0.8315\n",
      "Epoch 15/30\n",
      "3/3 - 0s - loss: 0.3000 - accuracy: 0.9213\n",
      "Epoch 16/30\n",
      "3/3 - 0s - loss: 0.2730 - accuracy: 0.9101\n",
      "Epoch 17/30\n",
      "3/3 - 0s - loss: 0.2688 - accuracy: 0.8989\n",
      "Epoch 18/30\n",
      "3/3 - 0s - loss: 0.3506 - accuracy: 0.8652\n",
      "Epoch 19/30\n",
      "3/3 - 0s - loss: 0.2457 - accuracy: 0.8989\n",
      "Epoch 20/30\n",
      "3/3 - 0s - loss: 0.2190 - accuracy: 0.9551\n",
      "Epoch 21/30\n",
      "3/3 - 0s - loss: 0.2635 - accuracy: 0.9101\n",
      "Epoch 22/30\n",
      "3/3 - 0s - loss: 0.2456 - accuracy: 0.8876\n",
      "Epoch 23/30\n",
      "3/3 - 0s - loss: 0.2070 - accuracy: 0.9213\n",
      "Epoch 24/30\n",
      "3/3 - 0s - loss: 0.2542 - accuracy: 0.9213\n",
      "Epoch 25/30\n",
      "3/3 - 0s - loss: 0.2009 - accuracy: 0.9101\n",
      "Epoch 26/30\n",
      "3/3 - 0s - loss: 0.1680 - accuracy: 0.9551\n",
      "Epoch 27/30\n",
      "3/3 - 0s - loss: 0.1793 - accuracy: 0.9551\n",
      "Epoch 28/30\n",
      "3/3 - 0s - loss: 0.1949 - accuracy: 0.9213\n",
      "Epoch 29/30\n",
      "3/3 - 0s - loss: 0.1986 - accuracy: 0.9213\n",
      "Epoch 30/30\n",
      "3/3 - 0s - loss: 0.1806 - accuracy: 0.9213\n"
     ]
    }
   ],
   "source": [
    "data = loadData(\"../../../my_lib/src/ClassicalNLP/Datasets/dataset_vectorized_fasttext.json\")\n",
    "\n",
    "maxLen = 5\n",
    "trainX, trainY, testX, testY = prepareTrainTestXYWords(data, maxLen)\n",
    "\n",
    "classifier = NNClassifier(model=\"CNN\", vectorSpaceSize=300)\n",
    "history = classifier.train(trainX, trainY)"
   ]
  },
  {
   "cell_type": "code",
   "execution_count": 9,
   "metadata": {},
   "outputs": [
    {
     "name": "stdout",
     "output_type": "stream",
     "text": [
      "CNN train accuracy on fastText vectors: 0.9213483333587646\n"
     ]
    }
   ],
   "source": [
    "fasttext_nn_train_acc = history.history['accuracy'][-1]\n",
    "print(f\"CNN train accuracy on fastText vectors: {fasttext_nn_train_acc}\")"
   ]
  },
  {
   "cell_type": "code",
   "execution_count": 10,
   "metadata": {},
   "outputs": [
    {
     "name": "stdout",
     "output_type": "stream",
     "text": [
      "CNN test accuracy on fastText vectors: 0.8260869565217391\n"
     ]
    }
   ],
   "source": [
    "res = classifier.predict(testX)\n",
    "fasttext_nn_test_acc = evaluate(res, testY)\n",
    "print(f\"CNN test accuracy on fastText vectors: {fasttext_nn_test_acc}\")"
   ]
  },
  {
   "cell_type": "markdown",
   "metadata": {},
   "source": [
    "Typically the convolutional network performs better than the previous algorithms."
   ]
  },
  {
   "cell_type": "markdown",
   "metadata": {},
   "source": [
    "Here is the whole set of results plotted"
   ]
  },
  {
   "cell_type": "code",
   "execution_count": 11,
   "metadata": {},
   "outputs": [
    {
     "data": {
      "image/png": "[encoded data removed]",
      "text/plain": [
       "<Figure size 576x432 with 1 Axes>"
      ]
     },
     "metadata": {
      "needs_background": "light"
     },
     "output_type": "display_data"
    }
   ],
   "source": [
    "import matplotlib.pyplot as plt\n",
    "plt.rcParams[\"figure.figsize\"] = (8,6)\n",
    "test_accs = [bert_neigh_test_acc, bert_nn_test_acc, fasttext_nn_test_acc]\n",
    "train_accs = [bert_neigh_train_acc, bert_nn_train_acc, fasttext_nn_train_acc]\n",
    "labels = [\"BERT nearest neighbors\", \"BERT NN\", \"fastText CNN\"]\n",
    "width = 0.3\n",
    "plt.bar(np.arange(len(test_accs)) - (width/2), test_accs, width=width)\n",
    "plt.bar(np.arange(len(train_accs)) + (width/2), train_accs, width=width)\n",
    "plt.xticks(range(len(labels)), labels)\n",
    "plt.ylabel(\"Accuracy\")\n",
    "plt.title(\"Classical algorithm results\")\n",
    "plt.legend([\"Test\", \"Train\"])\n",
    "plt.show()"
   ]
  },
  {
   "cell_type": "markdown",
   "metadata": {},
   "source": [
    "A promising future direction to explore seems to be implementing vectorizing using BERT that outputs word embeddings for each word in a sentence and training a convolutional network on top of them."
   ]
  }
 ],
 "metadata": {
  "kernelspec": {
   "display_name": "Python 3 (ipykernel)",
   "language": "python",
   "name": "python3"
  },
  "language_info": {
   "codemirror_mode": {
    "name": "ipython",
    "version": 3
   },
   "file_extension": ".py",
   "mimetype": "text/x-python",
   "name": "python",
   "nbconvert_exporter": "python",
   "pygments_lexer": "ipython3",
   "version": "3.9.6"
  }
 },
 "nbformat": 4,
 "nbformat_minor": 4
}
