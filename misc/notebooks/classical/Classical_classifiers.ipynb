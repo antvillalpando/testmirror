{
 "cells": [
  {
   "cell_type": "markdown",
   "metadata": {
    "tags": []
   },
   "source": [
    "# Classical classifiers"
   ]
  },
  {
   "cell_type": "markdown",
   "metadata": {},
   "source": [
    "This notebook shows how well classical classifiers solve the sentence classification problem that is chosen for the pre-alpha prototype. This is mainly needed to have a baseline for quantum solution to compare against."
   ]
  },
  {
   "cell_type": "markdown",
   "metadata": {},
   "source": [
    "We first load our library files and the required packages."
   ]
  },
  {
   "cell_type": "code",
   "execution_count": 1,
   "metadata": {},
   "outputs": [],
   "source": [
    "import sys\n",
    "import os\n",
    "import json\n",
    "import numpy as np\n",
    "from sklearn.neighbors import KNeighborsClassifier\n",
    "\n",
    "sys.path.append(\"../../../my_lib/src/ClassicalNLP/Classifier/\")\n",
    "\n",
    "from NNClassifier import (loadData,evaluate, NNClassifier,\n",
    "       prepareTrainTestXYWords, prepareTrainTestXYSentence,)"
   ]
  },
  {
   "cell_type": "markdown",
   "metadata": {},
   "source": [
    "For data vectorizing separate services are used which are run as Docker containers. To simplify the presentation via Jupyter notebook, for demonstration we will just load the already vectorized data.\n",
    "\n",
    "We have implemented sentence vectorization using pretrained _BERT_ (see [Git](https://github.com/google-research/bert), [arXiv](https://arxiv.org/abs/1810.04805)) base model (each sentence is represented as a 768-dimensional real-valued vector),\n",
    "as well as word-level vectorization using [_fastText_](https://fasttext.cc/) model [pretrained on English Wikipedia](https://fasttext.cc/docs/en/pretrained-vectors.html) (each word in a sentence is represented as a 300-dimensional real-valued vector).\n",
    "\n",
    "We will start with the BERT sentence-level vectorization."
   ]
  },
  {
   "cell_type": "code",
   "execution_count": 2,
   "metadata": {},
   "outputs": [
    {
     "name": "stdout",
     "output_type": "stream",
     "text": [
      "Training samples: 89, test samples: 23\n",
      "An example sentence: chicken eats fox, type: NOUN-TVERB-NOUN, truth value: False\n",
      "Vectorized sentence dimension: 768\n"
     ]
    }
   ],
   "source": [
    "data = loadData(\"../../../my_lib/src/ClassicalNLP/Datasets/dataset_vectorized_bert_uncased.json\")\n",
    "print(f\"Training samples: {len(data['train_data'])}, test samples: {len(data['test_data'])}\")\n",
    "print(f\"An example sentence: {data['train_data'][2]['sentence']}, type: {data['train_data'][2]['sentence_type']}, truth value: {data['train_data'][2]['truth_value']}\")\n",
    "print(f\"Vectorized sentence dimension: {len(data['train_data'][0]['sentence_vectorized'][0])}\")"
   ]
  },
  {
   "cell_type": "markdown",
   "metadata": {},
   "source": [
    "We reformat the data as numpy arrays for classifier training. "
   ]
  },
  {
   "cell_type": "code",
   "execution_count": 3,
   "metadata": {},
   "outputs": [
    {
     "name": "stdout",
     "output_type": "stream",
     "text": [
      "(89, 768)\n",
      "(89, 2)\n",
      "(23, 768)\n",
      "(23, 2)\n"
     ]
    }
   ],
   "source": [
    "trainX, trainY, testX, testY = prepareTrainTestXYSentence(data)\n",
    "print(f\"{trainX.shape}\")\n",
    "print(f\"{trainY.shape}\")\n",
    "print(f\"{testX.shape}\")\n",
    "print(f\"{testY.shape}\")"
   ]
  },
  {
   "cell_type": "markdown",
   "metadata": {},
   "source": [
    "We test the accuracy of classifying the sentence with the label corresponding to the closest sentence in the training data."
   ]
  },
  {
   "cell_type": "code",
   "execution_count": 4,
   "metadata": {},
   "outputs": [
    {
     "name": "stdout",
     "output_type": "stream",
     "text": [
      "0.6956521739130435\n"
     ]
    }
   ],
   "source": [
    "neigh = KNeighborsClassifier(n_neighbors=1)\n",
    "neigh.fit(trainX, trainY)\n",
    "res = neigh.predict(testX)\n",
    "score = np.sum(res == testY)/2/len(testY)\n",
    "print(score)"
   ]
  },
  {
   "cell_type": "markdown",
   "metadata": {},
   "source": [
    "Now we train a feedforward neural network classifier."
   ]
  },
  {
   "cell_type": "code",
   "execution_count": 5,
   "metadata": {
    "scrolled": true,
    "tags": []
   },
   "outputs": [
    {
     "name": "stdout",
     "output_type": "stream",
     "text": [
      "Epoch 1/100\n",
      "3/3 - 0s - loss: 0.7482 - accuracy: 0.5618\n",
      "Epoch 2/100\n",
      "3/3 - 0s - loss: 0.7056 - accuracy: 0.4944\n",
      "Epoch 3/100\n",
      "3/3 - 0s - loss: 0.6973 - accuracy: 0.5618\n",
      "Epoch 4/100\n",
      "3/3 - 0s - loss: 0.6674 - accuracy: 0.5955\n",
      "Epoch 5/100\n",
      "3/3 - 0s - loss: 0.6564 - accuracy: 0.6292\n",
      "Epoch 6/100\n",
      "3/3 - 0s - loss: 0.6465 - accuracy: 0.5955\n",
      "Epoch 7/100\n",
      "3/3 - 0s - loss: 0.6313 - accuracy: 0.6517\n",
      "Epoch 8/100\n",
      "3/3 - 0s - loss: 0.6203 - accuracy: 0.6404\n",
      "Epoch 9/100\n",
      "3/3 - 0s - loss: 0.6089 - accuracy: 0.7191\n",
      "Epoch 10/100\n",
      "3/3 - 0s - loss: 0.5972 - accuracy: 0.7303\n",
      "Epoch 11/100\n",
      "3/3 - 0s - loss: 0.5891 - accuracy: 0.7416\n",
      "Epoch 12/100\n",
      "3/3 - 0s - loss: 0.5808 - accuracy: 0.7191\n",
      "Epoch 13/100\n",
      "3/3 - 0s - loss: 0.5763 - accuracy: 0.7303\n",
      "Epoch 14/100\n",
      "3/3 - 0s - loss: 0.5670 - accuracy: 0.7528\n",
      "Epoch 15/100\n",
      "3/3 - 0s - loss: 0.5609 - accuracy: 0.7528\n",
      "Epoch 16/100\n",
      "3/3 - 0s - loss: 0.5561 - accuracy: 0.7191\n",
      "Epoch 17/100\n",
      "3/3 - 0s - loss: 0.5501 - accuracy: 0.7528\n",
      "Epoch 18/100\n",
      "3/3 - 0s - loss: 0.5443 - accuracy: 0.7753\n",
      "Epoch 19/100\n",
      "3/3 - 0s - loss: 0.5394 - accuracy: 0.7865\n",
      "Epoch 20/100\n",
      "3/3 - 0s - loss: 0.5366 - accuracy: 0.7753\n",
      "Epoch 21/100\n",
      "3/3 - 0s - loss: 0.5308 - accuracy: 0.7865\n",
      "Epoch 22/100\n",
      "3/3 - 0s - loss: 0.5262 - accuracy: 0.7753\n",
      "Epoch 23/100\n",
      "3/3 - 0s - loss: 0.5213 - accuracy: 0.7865\n",
      "Epoch 24/100\n",
      "3/3 - 0s - loss: 0.5182 - accuracy: 0.7865\n",
      "Epoch 25/100\n",
      "3/3 - 0s - loss: 0.5148 - accuracy: 0.7753\n",
      "Epoch 26/100\n",
      "3/3 - 0s - loss: 0.5118 - accuracy: 0.7865\n",
      "Epoch 27/100\n",
      "3/3 - 0s - loss: 0.5072 - accuracy: 0.7865\n",
      "Epoch 28/100\n",
      "3/3 - 0s - loss: 0.5046 - accuracy: 0.7865\n",
      "Epoch 29/100\n",
      "3/3 - 0s - loss: 0.5010 - accuracy: 0.7978\n",
      "Epoch 30/100\n",
      "3/3 - 0s - loss: 0.4978 - accuracy: 0.7978\n",
      "Epoch 31/100\n",
      "3/3 - 0s - loss: 0.4946 - accuracy: 0.8090\n",
      "Epoch 32/100\n",
      "3/3 - 0s - loss: 0.4929 - accuracy: 0.7978\n",
      "Epoch 33/100\n",
      "3/3 - 0s - loss: 0.4894 - accuracy: 0.7865\n",
      "Epoch 34/100\n",
      "3/3 - 0s - loss: 0.4854 - accuracy: 0.8202\n",
      "Epoch 35/100\n",
      "3/3 - 0s - loss: 0.4833 - accuracy: 0.7978\n",
      "Epoch 36/100\n",
      "3/3 - 0s - loss: 0.4792 - accuracy: 0.7978\n",
      "Epoch 37/100\n",
      "3/3 - 0s - loss: 0.4767 - accuracy: 0.7978\n",
      "Epoch 38/100\n",
      "3/3 - 0s - loss: 0.4755 - accuracy: 0.7978\n",
      "Epoch 39/100\n",
      "3/3 - 0s - loss: 0.4733 - accuracy: 0.7978\n",
      "Epoch 40/100\n",
      "3/3 - 0s - loss: 0.4717 - accuracy: 0.8090\n",
      "Epoch 41/100\n",
      "3/3 - 0s - loss: 0.4708 - accuracy: 0.7978\n",
      "Epoch 42/100\n",
      "3/3 - 0s - loss: 0.4645 - accuracy: 0.8090\n",
      "Epoch 43/100\n",
      "3/3 - 0s - loss: 0.4618 - accuracy: 0.8090\n",
      "Epoch 44/100\n",
      "3/3 - 0s - loss: 0.4596 - accuracy: 0.8090\n",
      "Epoch 45/100\n",
      "3/3 - 0s - loss: 0.4572 - accuracy: 0.8090\n",
      "Epoch 46/100\n",
      "3/3 - 0s - loss: 0.4565 - accuracy: 0.8202\n",
      "Epoch 47/100\n",
      "3/3 - 0s - loss: 0.4528 - accuracy: 0.8090\n",
      "Epoch 48/100\n",
      "3/3 - 0s - loss: 0.4500 - accuracy: 0.8202\n",
      "Epoch 49/100\n",
      "3/3 - 0s - loss: 0.4487 - accuracy: 0.8090\n",
      "Epoch 50/100\n",
      "3/3 - 0s - loss: 0.4464 - accuracy: 0.8090\n",
      "Epoch 51/100\n",
      "3/3 - 0s - loss: 0.4441 - accuracy: 0.8090\n",
      "Epoch 52/100\n",
      "3/3 - 0s - loss: 0.4422 - accuracy: 0.8090\n",
      "Epoch 53/100\n",
      "3/3 - 0s - loss: 0.4413 - accuracy: 0.8090\n",
      "Epoch 54/100\n",
      "3/3 - 0s - loss: 0.4378 - accuracy: 0.8090\n",
      "Epoch 55/100\n",
      "3/3 - 0s - loss: 0.4362 - accuracy: 0.8090\n",
      "Epoch 56/100\n",
      "3/3 - 0s - loss: 0.4341 - accuracy: 0.8202\n",
      "Epoch 57/100\n",
      "3/3 - 0s - loss: 0.4321 - accuracy: 0.8202\n",
      "Epoch 58/100\n",
      "3/3 - 0s - loss: 0.4300 - accuracy: 0.8315\n",
      "Epoch 59/100\n",
      "3/3 - 0s - loss: 0.4282 - accuracy: 0.8315\n",
      "Epoch 60/100\n",
      "3/3 - 0s - loss: 0.4287 - accuracy: 0.8315\n",
      "Epoch 61/100\n",
      "3/3 - 0s - loss: 0.4240 - accuracy: 0.8202\n",
      "Epoch 62/100\n",
      "3/3 - 0s - loss: 0.4266 - accuracy: 0.8202\n",
      "Epoch 63/100\n",
      "3/3 - 0s - loss: 0.4236 - accuracy: 0.8315\n",
      "Epoch 64/100\n",
      "3/3 - 0s - loss: 0.4214 - accuracy: 0.8315\n",
      "Epoch 65/100\n",
      "3/3 - 0s - loss: 0.4172 - accuracy: 0.8427\n",
      "Epoch 66/100\n",
      "3/3 - 0s - loss: 0.4155 - accuracy: 0.8652\n",
      "Epoch 67/100\n",
      "3/3 - 0s - loss: 0.4158 - accuracy: 0.8539\n",
      "Epoch 68/100\n",
      "3/3 - 0s - loss: 0.4140 - accuracy: 0.8652\n",
      "Epoch 69/100\n",
      "3/3 - 0s - loss: 0.4112 - accuracy: 0.8539\n",
      "Epoch 70/100\n",
      "3/3 - 0s - loss: 0.4089 - accuracy: 0.8539\n",
      "Epoch 71/100\n",
      "3/3 - 0s - loss: 0.4083 - accuracy: 0.8539\n",
      "Epoch 72/100\n",
      "3/3 - 0s - loss: 0.4065 - accuracy: 0.8652\n",
      "Epoch 73/100\n",
      "3/3 - 0s - loss: 0.4040 - accuracy: 0.8539\n",
      "Epoch 74/100\n",
      "3/3 - 0s - loss: 0.4025 - accuracy: 0.8652\n",
      "Epoch 75/100\n",
      "3/3 - 0s - loss: 0.4006 - accuracy: 0.8652\n",
      "Epoch 76/100\n",
      "3/3 - 0s - loss: 0.3991 - accuracy: 0.8652\n",
      "Epoch 77/100\n",
      "3/3 - 0s - loss: 0.3977 - accuracy: 0.8652\n",
      "Epoch 78/100\n",
      "3/3 - 0s - loss: 0.3960 - accuracy: 0.8652\n",
      "Epoch 79/100\n",
      "3/3 - 0s - loss: 0.3962 - accuracy: 0.8652\n",
      "Epoch 80/100\n",
      "3/3 - 0s - loss: 0.3932 - accuracy: 0.8652\n",
      "Epoch 81/100\n",
      "3/3 - 0s - loss: 0.3921 - accuracy: 0.8539\n",
      "Epoch 82/100\n",
      "3/3 - 0s - loss: 0.3900 - accuracy: 0.8652\n",
      "Epoch 83/100\n",
      "3/3 - 0s - loss: 0.3894 - accuracy: 0.8539\n",
      "Epoch 84/100\n",
      "3/3 - 0s - loss: 0.3871 - accuracy: 0.8764\n",
      "Epoch 85/100\n",
      "3/3 - 0s - loss: 0.3862 - accuracy: 0.8876\n",
      "Epoch 86/100\n",
      "3/3 - 0s - loss: 0.3842 - accuracy: 0.8876\n",
      "Epoch 87/100\n",
      "3/3 - 0s - loss: 0.3826 - accuracy: 0.8876\n",
      "Epoch 88/100\n",
      "3/3 - 0s - loss: 0.3816 - accuracy: 0.8764\n",
      "Epoch 89/100\n",
      "3/3 - 0s - loss: 0.3803 - accuracy: 0.8764\n",
      "Epoch 90/100\n",
      "3/3 - 0s - loss: 0.3798 - accuracy: 0.8764\n",
      "Epoch 91/100\n",
      "3/3 - 0s - loss: 0.3778 - accuracy: 0.8764\n",
      "Epoch 92/100\n",
      "3/3 - 0s - loss: 0.3770 - accuracy: 0.8652\n",
      "Epoch 93/100\n",
      "3/3 - 0s - loss: 0.3749 - accuracy: 0.8764\n",
      "Epoch 94/100\n",
      "3/3 - 0s - loss: 0.3734 - accuracy: 0.8652\n",
      "Epoch 95/100\n",
      "3/3 - 0s - loss: 0.3728 - accuracy: 0.8764\n",
      "Epoch 96/100\n",
      "3/3 - 0s - loss: 0.3706 - accuracy: 0.8764\n",
      "Epoch 97/100\n",
      "3/3 - 0s - loss: 0.3694 - accuracy: 0.8764\n",
      "Epoch 98/100\n",
      "3/3 - 0s - loss: 0.3695 - accuracy: 0.8764\n",
      "Epoch 99/100\n",
      "3/3 - 0s - loss: 0.3667 - accuracy: 0.8876\n",
      "Epoch 100/100\n",
      "3/3 - 0s - loss: 0.3654 - accuracy: 0.8764\n"
     ]
    }
   ],
   "source": [
    "classifier = NNClassifier()\n",
    "classifier.train(trainX, trainY)"
   ]
  },
  {
   "cell_type": "markdown",
   "metadata": {},
   "source": [
    "And measure the accuracy on the test set."
   ]
  },
  {
   "cell_type": "code",
   "execution_count": 6,
   "metadata": {},
   "outputs": [
    {
     "name": "stdout",
     "output_type": "stream",
     "text": [
      "FFNN accuracy: 0.6956521739130435\n"
     ]
    }
   ],
   "source": [
    "res = classifier.predict(testX)\n",
    "score = evaluate(res, testY)\n",
    "print(f\"FFNN accuracy: {score}\")"
   ]
  },
  {
   "cell_type": "markdown",
   "metadata": {},
   "source": [
    "Depending on random, the NN classifier might perform better or worse (or the same) than the 1-nearest neighbor algorithm."
   ]
  },
  {
   "cell_type": "markdown",
   "metadata": {},
   "source": [
    "Now we load fastText word embeddings and train a convolutional network on them."
   ]
  },
  {
   "cell_type": "code",
   "execution_count": 7,
   "metadata": {
    "scrolled": true,
    "tags": []
   },
   "outputs": [
    {
     "name": "stdout",
     "output_type": "stream",
     "text": [
      "Epoch 1/30\n",
      "3/3 - 0s - loss: 0.7933 - accuracy: 0.5393\n",
      "Epoch 2/30\n",
      "3/3 - 0s - loss: 0.7259 - accuracy: 0.5281\n",
      "Epoch 3/30\n",
      "3/3 - 0s - loss: 0.6248 - accuracy: 0.6629\n",
      "Epoch 4/30\n",
      "3/3 - 0s - loss: 0.5158 - accuracy: 0.7978\n",
      "Epoch 5/30\n",
      "3/3 - 0s - loss: 0.5534 - accuracy: 0.7416\n",
      "Epoch 6/30\n",
      "3/3 - 0s - loss: 0.4603 - accuracy: 0.8202\n",
      "Epoch 7/30\n",
      "3/3 - 0s - loss: 0.4278 - accuracy: 0.7865\n",
      "Epoch 8/30\n",
      "3/3 - 0s - loss: 0.4139 - accuracy: 0.8427\n",
      "Epoch 9/30\n",
      "3/3 - 0s - loss: 0.4094 - accuracy: 0.8764\n",
      "Epoch 10/30\n",
      "3/3 - 0s - loss: 0.3949 - accuracy: 0.8315\n",
      "Epoch 11/30\n",
      "3/3 - 0s - loss: 0.3751 - accuracy: 0.8202\n",
      "Epoch 12/30\n",
      "3/3 - 0s - loss: 0.3409 - accuracy: 0.8764\n",
      "Epoch 13/30\n",
      "3/3 - 0s - loss: 0.4087 - accuracy: 0.8315\n",
      "Epoch 14/30\n",
      "3/3 - 0s - loss: 0.3475 - accuracy: 0.8764\n",
      "Epoch 15/30\n",
      "3/3 - 0s - loss: 0.2947 - accuracy: 0.9101\n",
      "Epoch 16/30\n",
      "3/3 - 0s - loss: 0.2909 - accuracy: 0.8652\n",
      "Epoch 17/30\n",
      "3/3 - 0s - loss: 0.2731 - accuracy: 0.8876\n",
      "Epoch 18/30\n",
      "3/3 - 0s - loss: 0.2674 - accuracy: 0.9326\n",
      "Epoch 19/30\n",
      "3/3 - 0s - loss: 0.2610 - accuracy: 0.9101\n",
      "Epoch 20/30\n",
      "3/3 - 0s - loss: 0.2521 - accuracy: 0.9326\n",
      "Epoch 21/30\n",
      "3/3 - 0s - loss: 0.2185 - accuracy: 0.9326\n",
      "Epoch 22/30\n",
      "3/3 - 0s - loss: 0.1703 - accuracy: 0.9775\n",
      "Epoch 23/30\n",
      "3/3 - 0s - loss: 0.2679 - accuracy: 0.8989\n",
      "Epoch 24/30\n",
      "3/3 - 0s - loss: 0.2427 - accuracy: 0.9326\n",
      "Epoch 25/30\n",
      "3/3 - 0s - loss: 0.2263 - accuracy: 0.9438\n",
      "Epoch 26/30\n",
      "3/3 - 0s - loss: 0.2655 - accuracy: 0.9326\n",
      "Epoch 27/30\n",
      "3/3 - 0s - loss: 0.1790 - accuracy: 0.9438\n",
      "Epoch 28/30\n",
      "3/3 - 0s - loss: 0.1727 - accuracy: 0.9438\n",
      "Epoch 29/30\n",
      "3/3 - 0s - loss: 0.2062 - accuracy: 0.9101\n",
      "Epoch 30/30\n",
      "3/3 - 0s - loss: 0.1681 - accuracy: 0.9551\n"
     ]
    }
   ],
   "source": [
    "data = loadData(\"../../../my_lib/src/ClassicalNLP/Datasets/dataset_vectorized_fasttext.json\")\n",
    "\n",
    "maxLen = 5\n",
    "trainX, trainY, testX, testY = prepareTrainTestXYWords(data, maxLen)\n",
    "\n",
    "classifier = NNClassifier(model=\"CNN\", vectorSpaceSize=300)\n",
    "classifier.train(trainX, trainY)"
   ]
  },
  {
   "cell_type": "code",
   "execution_count": 8,
   "metadata": {},
   "outputs": [
    {
     "name": "stdout",
     "output_type": "stream",
     "text": [
      "0.7391304347826086\n"
     ]
    }
   ],
   "source": [
    "res = classifier.predict(testX)\n",
    "score = evaluate(res, testY)\n",
    "print(score)"
   ]
  },
  {
   "cell_type": "markdown",
   "metadata": {},
   "source": [
    "Typically the convolutional network performs better than the previous algorithms."
   ]
  },
  {
   "cell_type": "markdown",
   "metadata": {},
   "source": [
    "A promising future direction to explore seems to be implementing vectorizing using BERT that outputs word embeddings for each word in a sentence and training a convolutional network on top of them."
   ]
  }
 ],
 "metadata": {
  "kernelspec": {
   "display_name": "Python 3 (ipykernel)",
   "language": "python",
   "name": "python3"
  },
  "language_info": {
   "codemirror_mode": {
    "name": "ipython",
    "version": 3
   },
   "file_extension": ".py",
   "mimetype": "text/x-python",
   "name": "python",
   "nbconvert_exporter": "python",
   "pygments_lexer": "ipython3",
   "version": "3.8.6"
  }
 },
 "nbformat": 4,
 "nbformat_minor": 4
}
