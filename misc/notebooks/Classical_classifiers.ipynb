{
 "cells": [
  {
   "cell_type": "markdown",
   "metadata": {},
   "source": [
    "# Classical classifiers"
   ]
  },
  {
   "cell_type": "markdown",
   "metadata": {},
   "source": [
    "This notebook shows how well classical classifiers solve the sentence classification problem that is chosen for the pre-alpha prototype. This is mainly needed to have a baseline for quantum solution to compare against."
   ]
  },
  {
   "cell_type": "markdown",
   "metadata": {},
   "source": [
    "We first load our library files and the required packages."
   ]
  },
  {
   "cell_type": "code",
   "execution_count": 81,
   "metadata": {
    "tags": []
   },
   "outputs": [],
   "source": [
    "import sys\n",
    "sys.path.append(\"../../my_lib/src/ClassicalNLP/Classifier/\")"
   ]
  },
  {
   "cell_type": "code",
   "execution_count": 82,
   "metadata": {},
   "outputs": [],
   "source": [
    "import os\n",
    "import json\n",
    "import pandas as pd\n",
    "import numpy as np\n",
    "from sklearn.neighbors import KNeighborsClassifier\n",
    "\n",
    "from NNClassifier import (loadData,evaluate, NNClassifier,\n",
    "       prepareTrainTestXYWords, prepareTrainTestXYSentence,)"
   ]
  },
  {
   "cell_type": "markdown",
   "metadata": {},
   "source": [
    "For data vectorizing separate services are used which are run as Docker containers. To simplify the presentation via Jupyter notebook, for demonstration we will just load the already vectorized data.\n",
    "\n",
    "We have implemented sentence vectorization using pretrained _BERT_ (see [Git](https://github.com/google-research/bert), [arXiv](https://arxiv.org/abs/1810.04805)) base model (each sentence is represented as a 768-dimensional real-valued vector),\n",
    "as well as word-level vectorization using [_fastText_](https://fasttext.cc/) model [pretrained on English Wikipedia](https://fasttext.cc/docs/en/pretrained-vectors.html) (each word in a sentence is represented as a 300-dimensional real-valued vector).\n",
    "\n",
    "We will start with the BERT sentence-level vectorization."
   ]
  },
  {
   "cell_type": "code",
   "execution_count": 83,
   "metadata": {},
   "outputs": [
    {
     "name": "stdout",
     "output_type": "stream",
     "text": [
      "Training samples: 89, test samples: 23\n",
      "An example sentence: chicken eats fox, type: NOUN-TVERB-NOUN, truth value: False\n",
      "Vectorized sentence dimension: 768\n"
     ]
    }
   ],
   "source": [
    "data = loadData(\"../../my_lib/src/ClassicalNLP/Datasets/dataset_vectorized_bert_uncased.json\")\n",
    "print(f\"Training samples: {len(data['train_data'])}, test samples: {len(data['test_data'])}\")\n",
    "print(f\"An example sentence: {data['train_data'][2]['sentence']}, type: {data['train_data'][2]['sentence_type']}, truth value: {data['train_data'][2]['truth_value']}\")\n",
    "print(f\"Vectorized sentence dimension: {len(data['train_data'][0]['sentence_vectorized'][0])}\")"
   ]
  },
  {
   "cell_type": "markdown",
   "metadata": {},
   "source": [
    "We reformat the data as numpy arrays for classifier training. "
   ]
  },
  {
   "cell_type": "code",
   "execution_count": 84,
   "metadata": {},
   "outputs": [
    {
     "name": "stdout",
     "output_type": "stream",
     "text": [
      "(89, 768)\n",
      "(89, 2)\n",
      "(23, 768)\n",
      "(23, 2)\n"
     ]
    }
   ],
   "source": [
    "trainX, trainY, testX, testY = prepareTrainTestXYSentence(data)\n",
    "print(f\"{trainX.shape}\")\n",
    "print(f\"{trainY.shape}\")\n",
    "print(f\"{testX.shape}\")\n",
    "print(f\"{testY.shape}\")"
   ]
  },
  {
   "cell_type": "markdown",
   "metadata": {},
   "source": [
    "We test the accuracy of classifying the sentence with the label corresponding to the closest sentence in the training data."
   ]
  },
  {
   "cell_type": "code",
   "execution_count": 85,
   "metadata": {},
   "outputs": [
    {
     "name": "stdout",
     "output_type": "stream",
     "text": [
      "0.6956521739130435\n"
     ]
    }
   ],
   "source": [
    "neigh = KNeighborsClassifier(n_neighbors=1)\n",
    "neigh.fit(trainX, trainY)\n",
    "res = neigh.predict(testX)\n",
    "score = np.sum(res == testY)/2/len(testY)\n",
    "print(score)"
   ]
  },
  {
   "cell_type": "markdown",
   "metadata": {},
   "source": [
    "Now we train a feedforward neural network classifier."
   ]
  },
  {
   "cell_type": "code",
   "execution_count": 86,
   "metadata": {
    "scrolled": true,
    "tags": []
   },
   "outputs": [
    {
     "name": "stdout",
     "output_type": "stream",
     "text": [
      "Epoch 1/100\n",
      "3/3 - 0s - loss: 0.7827 - accuracy: 0.4607\n",
      "Epoch 2/100\n",
      "3/3 - 0s - loss: 0.7454 - accuracy: 0.4494\n",
      "Epoch 3/100\n",
      "3/3 - 0s - loss: 0.7247 - accuracy: 0.4831\n",
      "Epoch 4/100\n",
      "3/3 - 0s - loss: 0.7062 - accuracy: 0.5730\n",
      "Epoch 5/100\n",
      "3/3 - 0s - loss: 0.6878 - accuracy: 0.5955\n",
      "Epoch 6/100\n",
      "3/3 - 0s - loss: 0.6733 - accuracy: 0.5843\n",
      "Epoch 7/100\n",
      "3/3 - 0s - loss: 0.6607 - accuracy: 0.5955\n",
      "Epoch 8/100\n",
      "3/3 - 0s - loss: 0.6481 - accuracy: 0.5955\n",
      "Epoch 9/100\n",
      "3/3 - 0s - loss: 0.6383 - accuracy: 0.5730\n",
      "Epoch 10/100\n",
      "3/3 - 0s - loss: 0.6295 - accuracy: 0.6067\n",
      "Epoch 11/100\n",
      "3/3 - 0s - loss: 0.6226 - accuracy: 0.6067\n",
      "Epoch 12/100\n",
      "3/3 - 0s - loss: 0.6118 - accuracy: 0.6180\n",
      "Epoch 13/100\n",
      "3/3 - 0s - loss: 0.6031 - accuracy: 0.6629\n",
      "Epoch 14/100\n",
      "3/3 - 0s - loss: 0.5962 - accuracy: 0.6854\n",
      "Epoch 15/100\n",
      "3/3 - 0s - loss: 0.5897 - accuracy: 0.6966\n",
      "Epoch 16/100\n",
      "3/3 - 0s - loss: 0.5837 - accuracy: 0.6966\n",
      "Epoch 17/100\n",
      "3/3 - 0s - loss: 0.5769 - accuracy: 0.7079\n",
      "Epoch 18/100\n",
      "3/3 - 0s - loss: 0.5725 - accuracy: 0.6966\n",
      "Epoch 19/100\n",
      "3/3 - 0s - loss: 0.5680 - accuracy: 0.7079\n",
      "Epoch 20/100\n",
      "3/3 - 0s - loss: 0.5607 - accuracy: 0.7079\n",
      "Epoch 21/100\n",
      "3/3 - 0s - loss: 0.5568 - accuracy: 0.7191\n",
      "Epoch 22/100\n",
      "3/3 - 0s - loss: 0.5515 - accuracy: 0.6854\n",
      "Epoch 23/100\n",
      "3/3 - 0s - loss: 0.5475 - accuracy: 0.7079\n",
      "Epoch 24/100\n",
      "3/3 - 0s - loss: 0.5422 - accuracy: 0.7079\n",
      "Epoch 25/100\n",
      "3/3 - 0s - loss: 0.5378 - accuracy: 0.7303\n",
      "Epoch 26/100\n",
      "3/3 - 0s - loss: 0.5339 - accuracy: 0.7191\n",
      "Epoch 27/100\n",
      "3/3 - 0s - loss: 0.5300 - accuracy: 0.7191\n",
      "Epoch 28/100\n",
      "3/3 - 0s - loss: 0.5271 - accuracy: 0.7303\n",
      "Epoch 29/100\n",
      "3/3 - 0s - loss: 0.5233 - accuracy: 0.7303\n",
      "Epoch 30/100\n",
      "3/3 - 0s - loss: 0.5188 - accuracy: 0.7303\n",
      "Epoch 31/100\n",
      "3/3 - 0s - loss: 0.5160 - accuracy: 0.7416\n",
      "Epoch 32/100\n",
      "3/3 - 0s - loss: 0.5126 - accuracy: 0.7416\n",
      "Epoch 33/100\n",
      "3/3 - 0s - loss: 0.5090 - accuracy: 0.7303\n",
      "Epoch 34/100\n",
      "3/3 - 0s - loss: 0.5060 - accuracy: 0.7303\n",
      "Epoch 35/100\n",
      "3/3 - 0s - loss: 0.5060 - accuracy: 0.7303\n",
      "Epoch 36/100\n",
      "3/3 - 0s - loss: 0.5006 - accuracy: 0.7528\n",
      "Epoch 37/100\n",
      "3/3 - 0s - loss: 0.4964 - accuracy: 0.7640\n",
      "Epoch 38/100\n",
      "3/3 - 0s - loss: 0.4930 - accuracy: 0.7416\n",
      "Epoch 39/100\n",
      "3/3 - 0s - loss: 0.4912 - accuracy: 0.7416\n",
      "Epoch 40/100\n",
      "3/3 - 0s - loss: 0.4876 - accuracy: 0.7528\n",
      "Epoch 41/100\n",
      "3/3 - 0s - loss: 0.4852 - accuracy: 0.7528\n",
      "Epoch 42/100\n",
      "3/3 - 0s - loss: 0.4819 - accuracy: 0.7640\n",
      "Epoch 43/100\n",
      "3/3 - 0s - loss: 0.4820 - accuracy: 0.7753\n",
      "Epoch 44/100\n",
      "3/3 - 0s - loss: 0.4770 - accuracy: 0.7865\n",
      "Epoch 45/100\n",
      "3/3 - 0s - loss: 0.4737 - accuracy: 0.7865\n",
      "Epoch 46/100\n",
      "3/3 - 0s - loss: 0.4726 - accuracy: 0.7753\n",
      "Epoch 47/100\n",
      "3/3 - 0s - loss: 0.4692 - accuracy: 0.7865\n",
      "Epoch 48/100\n",
      "3/3 - 0s - loss: 0.4666 - accuracy: 0.7865\n",
      "Epoch 49/100\n",
      "3/3 - 0s - loss: 0.4679 - accuracy: 0.7865\n",
      "Epoch 50/100\n",
      "3/3 - 0s - loss: 0.4618 - accuracy: 0.7978\n",
      "Epoch 51/100\n",
      "3/3 - 0s - loss: 0.4599 - accuracy: 0.7865\n",
      "Epoch 52/100\n",
      "3/3 - 0s - loss: 0.4568 - accuracy: 0.7865\n",
      "Epoch 53/100\n",
      "3/3 - 0s - loss: 0.4573 - accuracy: 0.7865\n",
      "Epoch 54/100\n",
      "3/3 - 0s - loss: 0.4529 - accuracy: 0.7865\n",
      "Epoch 55/100\n",
      "3/3 - 0s - loss: 0.4513 - accuracy: 0.7978\n",
      "Epoch 56/100\n",
      "3/3 - 0s - loss: 0.4477 - accuracy: 0.7978\n",
      "Epoch 57/100\n",
      "3/3 - 0s - loss: 0.4456 - accuracy: 0.8202\n",
      "Epoch 58/100\n",
      "3/3 - 0s - loss: 0.4445 - accuracy: 0.8202\n",
      "Epoch 59/100\n",
      "3/3 - 0s - loss: 0.4429 - accuracy: 0.8315\n",
      "Epoch 60/100\n",
      "3/3 - 0s - loss: 0.4402 - accuracy: 0.8202\n",
      "Epoch 61/100\n",
      "3/3 - 0s - loss: 0.4382 - accuracy: 0.8202\n",
      "Epoch 62/100\n",
      "3/3 - 0s - loss: 0.4351 - accuracy: 0.8202\n",
      "Epoch 63/100\n",
      "3/3 - 0s - loss: 0.4342 - accuracy: 0.8090\n",
      "Epoch 64/100\n",
      "3/3 - 0s - loss: 0.4323 - accuracy: 0.7978\n",
      "Epoch 65/100\n",
      "3/3 - 0s - loss: 0.4310 - accuracy: 0.8202\n",
      "Epoch 66/100\n",
      "3/3 - 0s - loss: 0.4279 - accuracy: 0.8202\n",
      "Epoch 67/100\n",
      "3/3 - 0s - loss: 0.4261 - accuracy: 0.8315\n",
      "Epoch 68/100\n",
      "3/3 - 0s - loss: 0.4243 - accuracy: 0.8090\n",
      "Epoch 69/100\n",
      "3/3 - 0s - loss: 0.4252 - accuracy: 0.8090\n",
      "Epoch 70/100\n",
      "3/3 - 0s - loss: 0.4218 - accuracy: 0.8315\n",
      "Epoch 71/100\n",
      "3/3 - 0s - loss: 0.4216 - accuracy: 0.8539\n",
      "Epoch 72/100\n",
      "3/3 - 0s - loss: 0.4184 - accuracy: 0.8539\n",
      "Epoch 73/100\n",
      "3/3 - 0s - loss: 0.4145 - accuracy: 0.8427\n",
      "Epoch 74/100\n",
      "3/3 - 0s - loss: 0.4137 - accuracy: 0.7978\n",
      "Epoch 75/100\n",
      "3/3 - 0s - loss: 0.4124 - accuracy: 0.8202\n",
      "Epoch 76/100\n",
      "3/3 - 0s - loss: 0.4113 - accuracy: 0.8315\n",
      "Epoch 77/100\n",
      "3/3 - 0s - loss: 0.4082 - accuracy: 0.8315\n",
      "Epoch 78/100\n",
      "3/3 - 0s - loss: 0.4066 - accuracy: 0.8427\n",
      "Epoch 79/100\n",
      "3/3 - 0s - loss: 0.4052 - accuracy: 0.8427\n",
      "Epoch 80/100\n",
      "3/3 - 0s - loss: 0.4035 - accuracy: 0.8427\n",
      "Epoch 81/100\n",
      "3/3 - 0s - loss: 0.4026 - accuracy: 0.8427\n",
      "Epoch 82/100\n",
      "3/3 - 0s - loss: 0.4008 - accuracy: 0.8539\n",
      "Epoch 83/100\n",
      "3/3 - 0s - loss: 0.3990 - accuracy: 0.8539\n",
      "Epoch 84/100\n",
      "3/3 - 0s - loss: 0.3972 - accuracy: 0.8539\n",
      "Epoch 85/100\n",
      "3/3 - 0s - loss: 0.3957 - accuracy: 0.8427\n",
      "Epoch 86/100\n",
      "3/3 - 0s - loss: 0.3946 - accuracy: 0.8427\n",
      "Epoch 87/100\n",
      "3/3 - 0s - loss: 0.3920 - accuracy: 0.8427\n",
      "Epoch 88/100\n",
      "3/3 - 0s - loss: 0.3907 - accuracy: 0.8539\n",
      "Epoch 89/100\n",
      "3/3 - 0s - loss: 0.3921 - accuracy: 0.8539\n",
      "Epoch 90/100\n",
      "3/3 - 0s - loss: 0.3878 - accuracy: 0.8539\n",
      "Epoch 91/100\n",
      "3/3 - 0s - loss: 0.3913 - accuracy: 0.8202\n",
      "Epoch 92/100\n",
      "3/3 - 0s - loss: 0.3870 - accuracy: 0.8427\n",
      "Epoch 93/100\n",
      "3/3 - 0s - loss: 0.3836 - accuracy: 0.8539\n",
      "Epoch 94/100\n",
      "3/3 - 0s - loss: 0.3823 - accuracy: 0.8539\n",
      "Epoch 95/100\n",
      "3/3 - 0s - loss: 0.3819 - accuracy: 0.8539\n",
      "Epoch 96/100\n",
      "3/3 - 0s - loss: 0.3793 - accuracy: 0.8652\n",
      "Epoch 97/100\n",
      "3/3 - 0s - loss: 0.3779 - accuracy: 0.8539\n",
      "Epoch 98/100\n",
      "3/3 - 0s - loss: 0.3770 - accuracy: 0.8539\n",
      "Epoch 99/100\n",
      "3/3 - 0s - loss: 0.3749 - accuracy: 0.8652\n",
      "Epoch 100/100\n",
      "3/3 - 0s - loss: 0.3739 - accuracy: 0.8652\n"
     ]
    }
   ],
   "source": [
    "classifier = NNClassifier()\n",
    "classifier.train(trainX, trainY)"
   ]
  },
  {
   "cell_type": "markdown",
   "metadata": {},
   "source": [
    "And measure the accuracy on the test set."
   ]
  },
  {
   "cell_type": "code",
   "execution_count": 87,
   "metadata": {},
   "outputs": [
    {
     "name": "stdout",
     "output_type": "stream",
     "text": [
      "FFNN accuracy: 0.6521739130434783\n"
     ]
    }
   ],
   "source": [
    "res = classifier.predict(testX)\n",
    "score = evaluate(res, testY)\n",
    "print(f\"FFNN accuracy: {score}\")"
   ]
  },
  {
   "cell_type": "markdown",
   "metadata": {},
   "source": [
    "Depending on random, the NN classifier might perform better or worse than the 1-nearest neighbor algorithm."
   ]
  },
  {
   "cell_type": "markdown",
   "metadata": {},
   "source": [
    "Now we load fastText word embeddings and train a convolutional network on them."
   ]
  },
  {
   "cell_type": "code",
   "execution_count": 88,
   "metadata": {
    "scrolled": true,
    "tags": []
   },
   "outputs": [
    {
     "name": "stdout",
     "output_type": "stream",
     "text": [
      "Epoch 1/30\n",
      "3/3 - 0s - loss: 0.8288 - accuracy: 0.5169\n",
      "Epoch 2/30\n",
      "3/3 - 0s - loss: 0.6508 - accuracy: 0.5730\n",
      "Epoch 3/30\n",
      "3/3 - 0s - loss: 0.5874 - accuracy: 0.6966\n",
      "Epoch 4/30\n",
      "3/3 - 0s - loss: 0.5726 - accuracy: 0.6854\n",
      "Epoch 5/30\n",
      "3/3 - 0s - loss: 0.6016 - accuracy: 0.6742\n",
      "Epoch 6/30\n",
      "3/3 - 0s - loss: 0.5121 - accuracy: 0.7865\n",
      "Epoch 7/30\n",
      "3/3 - 0s - loss: 0.4671 - accuracy: 0.7865\n",
      "Epoch 8/30\n",
      "3/3 - 0s - loss: 0.4244 - accuracy: 0.8202\n",
      "Epoch 9/30\n",
      "3/3 - 0s - loss: 0.4001 - accuracy: 0.8315\n",
      "Epoch 10/30\n",
      "3/3 - 0s - loss: 0.4194 - accuracy: 0.8427\n",
      "Epoch 11/30\n",
      "3/3 - 0s - loss: 0.4203 - accuracy: 0.8202\n",
      "Epoch 12/30\n",
      "3/3 - 0s - loss: 0.3070 - accuracy: 0.8876\n",
      "Epoch 13/30\n",
      "3/3 - 0s - loss: 0.3846 - accuracy: 0.7865\n",
      "Epoch 14/30\n",
      "3/3 - 0s - loss: 0.3470 - accuracy: 0.8202\n",
      "Epoch 15/30\n",
      "3/3 - 0s - loss: 0.3679 - accuracy: 0.8202\n",
      "Epoch 16/30\n",
      "3/3 - 0s - loss: 0.3052 - accuracy: 0.9213\n",
      "Epoch 17/30\n",
      "3/3 - 0s - loss: 0.2882 - accuracy: 0.8876\n",
      "Epoch 18/30\n",
      "3/3 - 0s - loss: 0.2617 - accuracy: 0.9326\n",
      "Epoch 19/30\n",
      "3/3 - 0s - loss: 0.2763 - accuracy: 0.8989\n",
      "Epoch 20/30\n",
      "3/3 - 0s - loss: 0.2381 - accuracy: 0.9326\n",
      "Epoch 21/30\n",
      "3/3 - 0s - loss: 0.2258 - accuracy: 0.9213\n",
      "Epoch 22/30\n",
      "3/3 - 0s - loss: 0.2195 - accuracy: 0.9101\n",
      "Epoch 23/30\n",
      "3/3 - 0s - loss: 0.2246 - accuracy: 0.9326\n",
      "Epoch 24/30\n",
      "3/3 - 0s - loss: 0.2233 - accuracy: 0.9213\n",
      "Epoch 25/30\n",
      "3/3 - 0s - loss: 0.2084 - accuracy: 0.9101\n",
      "Epoch 26/30\n",
      "3/3 - 0s - loss: 0.1824 - accuracy: 0.9551\n",
      "Epoch 27/30\n",
      "3/3 - 0s - loss: 0.2329 - accuracy: 0.9101\n",
      "Epoch 28/30\n",
      "3/3 - 0s - loss: 0.1691 - accuracy: 0.9663\n",
      "Epoch 29/30\n",
      "3/3 - 0s - loss: 0.1690 - accuracy: 0.9438\n",
      "Epoch 30/30\n",
      "3/3 - 0s - loss: 0.2159 - accuracy: 0.9213\n"
     ]
    }
   ],
   "source": [
    "data = loadData(\"../../my_lib/src/ClassicalNLP/Datasets/dataset_vectorized_fasttext.json\")\n",
    "\n",
    "maxLen = 5\n",
    "trainX, trainY, testX, testY = prepareTrainTestXYWords(data, maxLen)\n",
    "\n",
    "classifier = NNClassifier(model=\"CNN\", vectorSpaceSize=300)\n",
    "classifier.train(trainX, trainY)"
   ]
  },
  {
   "cell_type": "code",
   "execution_count": 77,
   "metadata": {},
   "outputs": [
    {
     "name": "stdout",
     "output_type": "stream",
     "text": [
      "0.8260869565217391\n"
     ]
    }
   ],
   "source": [
    "res = classifier.predict(testX)\n",
    "score = evaluate(res, testY)\n",
    "print(score)"
   ]
  },
  {
   "cell_type": "markdown",
   "metadata": {},
   "source": [
    "Typically the convolutional network performs better than the previous algorithms."
   ]
  },
  {
   "cell_type": "markdown",
   "metadata": {},
   "source": [
    "A promising future direction to explore seems to be implementing vectorizing using BERT that outputs word embeddings for each word in a sentence and training a convolutional network on top of them."
   ]
  },
  {
   "cell_type": "code",
   "execution_count": null,
   "metadata": {},
   "outputs": [],
   "source": []
  }
 ],
 "metadata": {
  "kernelspec": {
   "display_name": "Python 3 (ipykernel)",
   "language": "python",
   "name": "python3"
  },
  "language_info": {
   "codemirror_mode": {
    "name": "ipython",
    "version": 3
   },
   "file_extension": ".py",
   "mimetype": "text/x-python",
   "name": "python",
   "nbconvert_exporter": "python",
   "pygments_lexer": "ipython3",
   "version": "3.8.6"
  }
 },
 "nbformat": 4,
 "nbformat_minor": 4
}
